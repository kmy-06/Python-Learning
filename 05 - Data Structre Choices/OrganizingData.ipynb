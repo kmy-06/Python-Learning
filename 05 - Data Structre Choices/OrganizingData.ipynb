{
 "cells": [
  {
   "cell_type": "code",
   "execution_count": 43,
   "metadata": {},
   "outputs": [
    {
     "name": "stdout",
     "output_type": "stream",
     "text": [
      "60\n"
     ]
    }
   ],
   "source": [
    "import os\n",
    "import swimclub\n",
    "\n",
    "swim_files = os.listdir(swimclub.FOLDER)\n",
    "swim_files.remove('.DS_Store')\n",
    "\n",
    "print(len(swim_files))"
   ]
  },
  {
   "cell_type": "code",
   "execution_count": 44,
   "metadata": {},
   "outputs": [
    {
     "name": "stdout",
     "output_type": "stream",
     "text": [
      "['Hannah-13-100m-Free.txt', 'Darius-13-100m-Back.txt', 'Owen-15-100m-Free.txt', 'Mike-15-100m-Free.txt', 'Hannah-13-100m-Back.txt', 'Mike-15-100m-Back.txt', 'Mike-15-100m-Fly.txt', 'Abi-10-50m-Back.txt', 'Ruth-13-200m-Free.txt', 'Tasmin-15-100m-Back.txt', 'Erika-15-100m-Free.txt', 'Ruth-13-200m-Back.txt', 'Abi-10-50m-Free.txt', 'Maria-9-50m-Free.txt', 'Elba-14-100m-Free.txt', 'Tasmin-15-100m-Free.txt', 'Abi-10-100m-Back.txt', 'Abi-10-50m-Breast.txt', 'Mike-15-200m-IM.txt', 'Ali-12-100m-Back.txt', 'Ruth-13-100m-Back.txt', 'Chris-17-100m-Back.txt', 'Ali-12-100m-Free.txt', 'Darius-13-100m-Breast.txt', 'Ruth-13-100m-Free.txt', 'Aurora-13-50m-Free.txt', 'Katie-9-100m-Breast.txt', 'Alison-14-100m-Breast.txt', 'Ruth-13-400m-Free.txt', 'Emma-13-100m-Free.txt', 'Calvin-9-50m-Fly.txt', 'Darius-13-100m-Fly.txt', 'Mike-15-200m-Free.txt', 'Emma-13-100m-Breast.txt', 'Tasmin-15-100m-Breast.txt', 'Blake-15-100m-Free.txt', 'Abi-10-100m-Breast.txt', 'Chris-17-100m-Breast.txt', 'Blake-15-100m-Back.txt', 'Bill-18-200m-Back.txt', 'Darius-13-200m-IM.txt', 'Dave-17-100m-Free.txt', 'Alison-14-100m-Free.txt', 'Lizzie-14-100m-Free.txt', 'Katie-9-50m-Fly.txt', 'Katie-9-50m-Breast.txt', 'Katie-9-50m-Back.txt', 'Lizzie-14-100m-Back.txt', 'Tasmin-15-200m-Breast.txt', 'Katie-9-50m-Free.txt', 'Dave-17-200m-Back.txt', 'Erika-15-200m-Breast.txt', 'Calvin-9-50m-Back.txt', 'Calvin-9-50m-Free.txt', 'Carl-15-100m-Back.txt', 'Bill-18-100m-Back.txt', 'Katie-9-100m-Free.txt', 'Blake-15-100m-Fly.txt', 'Erika-15-100m-Breast.txt', 'Katie-9-100m-Back.txt']\n"
     ]
    }
   ],
   "source": [
    "print(swim_files)"
   ]
  },
  {
   "cell_type": "code",
   "execution_count": 46,
   "metadata": {},
   "outputs": [
    {
     "name": "stdout",
     "output_type": "stream",
     "text": [
      "nope\n"
     ]
    }
   ],
   "source": [
    "if \"Katie-9-100m-IM.txt\" in swim_files:\n",
    "    print(\"yeah\")\n",
    "else:\n",
    "    print (\"nope\")"
   ]
  },
  {
   "cell_type": "code",
   "execution_count": 3,
   "metadata": {},
   "outputs": [],
   "source": [
    "swimmers = []"
   ]
  },
  {
   "cell_type": "code",
   "execution_count": 4,
   "metadata": {},
   "outputs": [],
   "source": [
    "for file in swim_files:\n",
    "    swimmers.append(swimclub.read_swim_data(file)[0]) # Get the first slot's data of the swimdata folder using the read_swim_data function"
   ]
  },
  {
   "cell_type": "code",
   "execution_count": 5,
   "metadata": {},
   "outputs": [
    {
     "name": "stdout",
     "output_type": "stream",
     "text": [
      "['Hannah', 'Darius', 'Owen', 'Mike', 'Hannah', 'Mike', 'Mike', 'Abi', 'Ruth', 'Tasmin', 'Erika', 'Ruth', 'Abi', 'Maria', 'Elba', 'Tasmin', 'Abi', 'Abi', 'Mike', 'Ali', 'Ruth', 'Chris', 'Ali', 'Darius', 'Ruth', 'Aurora', 'Katie', 'Alison', 'Ruth', 'Emma', 'Calvin', 'Darius', 'Mike', 'Emma', 'Tasmin', 'Blake', 'Abi', 'Chris', 'Blake', 'Bill', 'Darius', 'Dave', 'Alison', 'Lizzie', 'Katie', 'Katie', 'Katie', 'Lizzie', 'Tasmin', 'Katie', 'Dave', 'Erika', 'Calvin', 'Calvin', 'Carl', 'Bill', 'Katie', 'Blake', 'Erika', 'Katie']\n"
     ]
    }
   ],
   "source": [
    "print(swimmers)"
   ]
  },
  {
   "cell_type": "code",
   "execution_count": 6,
   "metadata": {},
   "outputs": [],
   "source": [
    "names = list(set(swimmers)) # Remove duplicates (read from back to front: list->set->list)"
   ]
  },
  {
   "cell_type": "code",
   "execution_count": 7,
   "metadata": {},
   "outputs": [
    {
     "name": "stdout",
     "output_type": "stream",
     "text": [
      "['Katie', 'Tasmin', 'Mike', 'Aurora', 'Carl', 'Abi', 'Chris', 'Erika', 'Owen', 'Emma', 'Calvin', 'Dave', 'Blake', 'Hannah', 'Darius', 'Maria', 'Elba', 'Alison', 'Lizzie', 'Bill', 'Ali', 'Ruth']\n"
     ]
    }
   ],
   "source": [
    "print(names)"
   ]
  },
  {
   "cell_type": "code",
   "execution_count": 8,
   "metadata": {},
   "outputs": [
    {
     "data": {
      "text/plain": [
       "22"
      ]
     },
     "execution_count": 8,
     "metadata": {},
     "output_type": "execute_result"
    }
   ],
   "source": [
    "len(names)"
   ]
  },
  {
   "cell_type": "code",
   "execution_count": 9,
   "metadata": {},
   "outputs": [
    {
     "name": "stdout",
     "output_type": "stream",
     "text": [
      "['Hannah', 'Darius', 'Owen', 'Mike', 'Abi', 'Ruth', 'Tasmin', 'Erika', 'Maria', 'Elba', 'Ali', 'Chris', 'Aurora', 'Katie', 'Alison', 'Emma', 'Calvin', 'Blake', 'Bill', 'Dave', 'Lizzie', 'Carl']\n"
     ]
    }
   ],
   "source": [
    "swimmers = []\n",
    "\n",
    "for file in swim_files: \n",
    "    name = swimclub.read_swim_data(file)[0]\n",
    "    \n",
    "    if name not in swimmers:\n",
    "        swimmers.append(name)\n",
    "\n",
    "print(swimmers)"
   ]
  },
  {
   "cell_type": "code",
   "execution_count": 10,
   "metadata": {},
   "outputs": [
    {
     "name": "stdout",
     "output_type": "stream",
     "text": [
      "['Abi', 'Ali', 'Alison', 'Aurora', 'Bill', 'Blake', 'Calvin', 'Carl', 'Chris', 'Darius', 'Dave', 'Elba', 'Emma', 'Erika', 'Hannah', 'Katie', 'Lizzie', 'Maria', 'Mike', 'Owen', 'Ruth', 'Tasmin']\n"
     ]
    }
   ],
   "source": [
    "print(sorted(names))"
   ]
  },
  {
   "cell_type": "code",
   "execution_count": 11,
   "metadata": {},
   "outputs": [
    {
     "name": "stdout",
     "output_type": "stream",
     "text": [
      "['Abi', 'Ali', 'Alison', 'Aurora', 'Bill', 'Blake', 'Calvin', 'Carl', 'Chris', 'Darius', 'Dave', 'Elba', 'Emma', 'Erika', 'Hannah', 'Katie', 'Lizzie', 'Maria', 'Mike', 'Owen', 'Ruth', 'Tasmin']\n"
     ]
    }
   ],
   "source": [
    "print(sorted(swimmers)) "
   ]
  },
  {
   "cell_type": "code",
   "execution_count": 12,
   "metadata": {},
   "outputs": [],
   "source": [
    "swimmers = []\n",
    "\n",
    "for file in swim_files:\n",
    "    swimmers.append((swimclub.read_swim_data(file)[0], file)) # Create a tuple list of the swimmer's name and the file name"
   ]
  },
  {
   "cell_type": "code",
   "execution_count": 13,
   "metadata": {},
   "outputs": [
    {
     "name": "stdout",
     "output_type": "stream",
     "text": [
      "[('Hannah', 'Hannah-13-100m-Free.txt'), ('Darius', 'Darius-13-100m-Back.txt'), ('Owen', 'Owen-15-100m-Free.txt'), ('Mike', 'Mike-15-100m-Free.txt'), ('Hannah', 'Hannah-13-100m-Back.txt'), ('Mike', 'Mike-15-100m-Back.txt'), ('Mike', 'Mike-15-100m-Fly.txt'), ('Abi', 'Abi-10-50m-Back.txt'), ('Ruth', 'Ruth-13-200m-Free.txt'), ('Tasmin', 'Tasmin-15-100m-Back.txt'), ('Erika', 'Erika-15-100m-Free.txt'), ('Ruth', 'Ruth-13-200m-Back.txt'), ('Abi', 'Abi-10-50m-Free.txt'), ('Maria', 'Maria-9-50m-Free.txt'), ('Elba', 'Elba-14-100m-Free.txt'), ('Tasmin', 'Tasmin-15-100m-Free.txt'), ('Abi', 'Abi-10-100m-Back.txt'), ('Abi', 'Abi-10-50m-Breast.txt'), ('Mike', 'Mike-15-200m-IM.txt'), ('Ali', 'Ali-12-100m-Back.txt'), ('Ruth', 'Ruth-13-100m-Back.txt'), ('Chris', 'Chris-17-100m-Back.txt'), ('Ali', 'Ali-12-100m-Free.txt'), ('Darius', 'Darius-13-100m-Breast.txt'), ('Ruth', 'Ruth-13-100m-Free.txt'), ('Aurora', 'Aurora-13-50m-Free.txt'), ('Katie', 'Katie-9-100m-Breast.txt'), ('Alison', 'Alison-14-100m-Breast.txt'), ('Ruth', 'Ruth-13-400m-Free.txt'), ('Emma', 'Emma-13-100m-Free.txt'), ('Calvin', 'Calvin-9-50m-Fly.txt'), ('Darius', 'Darius-13-100m-Fly.txt'), ('Mike', 'Mike-15-200m-Free.txt'), ('Emma', 'Emma-13-100m-Breast.txt'), ('Tasmin', 'Tasmin-15-100m-Breast.txt'), ('Blake', 'Blake-15-100m-Free.txt'), ('Abi', 'Abi-10-100m-Breast.txt'), ('Chris', 'Chris-17-100m-Breast.txt'), ('Blake', 'Blake-15-100m-Back.txt'), ('Bill', 'Bill-18-200m-Back.txt'), ('Darius', 'Darius-13-200m-IM.txt'), ('Dave', 'Dave-17-100m-Free.txt'), ('Alison', 'Alison-14-100m-Free.txt'), ('Lizzie', 'Lizzie-14-100m-Free.txt'), ('Katie', 'Katie-9-50m-Fly.txt'), ('Katie', 'Katie-9-50m-Breast.txt'), ('Katie', 'Katie-9-50m-Back.txt'), ('Lizzie', 'Lizzie-14-100m-Back.txt'), ('Tasmin', 'Tasmin-15-200m-Breast.txt'), ('Katie', 'Katie-9-50m-Free.txt'), ('Dave', 'Dave-17-200m-Back.txt'), ('Erika', 'Erika-15-200m-Breast.txt'), ('Calvin', 'Calvin-9-50m-Back.txt'), ('Calvin', 'Calvin-9-50m-Free.txt'), ('Carl', 'Carl-15-100m-Back.txt'), ('Bill', 'Bill-18-100m-Back.txt'), ('Katie', 'Katie-9-100m-Free.txt'), ('Blake', 'Blake-15-100m-Fly.txt'), ('Erika', 'Erika-15-100m-Breast.txt'), ('Katie', 'Katie-9-100m-Back.txt')]\n"
     ]
    }
   ],
   "source": [
    "print(swimmers)"
   ]
  },
  {
   "cell_type": "code",
   "execution_count": 14,
   "metadata": {},
   "outputs": [
    {
     "data": {
      "text/plain": [
       "60"
      ]
     },
     "execution_count": 14,
     "metadata": {},
     "output_type": "execute_result"
    }
   ],
   "source": [
    "len(swim_files)"
   ]
  },
  {
   "cell_type": "code",
   "execution_count": 15,
   "metadata": {},
   "outputs": [
    {
     "data": {
      "text/plain": [
       "[('Hannah', 'Hannah-13-100m-Free.txt'),\n",
       " ('Darius', 'Darius-13-100m-Back.txt'),\n",
       " ('Owen', 'Owen-15-100m-Free.txt'),\n",
       " ('Mike', 'Mike-15-100m-Free.txt'),\n",
       " ('Hannah', 'Hannah-13-100m-Back.txt')]"
      ]
     },
     "execution_count": 15,
     "metadata": {},
     "output_type": "execute_result"
    }
   ],
   "source": [
    "swimmers[:5] # Two-part tuples"
   ]
  },
  {
   "cell_type": "code",
   "execution_count": 16,
   "metadata": {},
   "outputs": [
    {
     "name": "stdout",
     "output_type": "stream",
     "text": [
      "['Abi', 'Ali', 'Alison', 'Aurora', 'Bill', 'Blake', 'Calvin', 'Carl', 'Chris', 'Darius', 'Dave', 'Elba', 'Emma', 'Erika', 'Hannah', 'Katie', 'Lizzie', 'Maria', 'Mike', 'Owen', 'Ruth', 'Tasmin']\n"
     ]
    }
   ],
   "source": [
    "names = []\n",
    "\n",
    "for row in swimmers:\n",
    "    if row[0] not in names: # row[0] is the first item in the tuple\n",
    "        names.append(row[0])\n",
    "\n",
    "print(sorted(names))"
   ]
  },
  {
   "cell_type": "code",
   "execution_count": 17,
   "metadata": {},
   "outputs": [
    {
     "name": "stdout",
     "output_type": "stream",
     "text": [
      "41 ('Dave', 'Dave-17-100m-Free.txt')\n",
      "50 ('Dave', 'Dave-17-200m-Back.txt')\n"
     ]
    }
   ],
   "source": [
    "for n, event in enumerate(swimmers):\n",
    "    if event[0] == \"Dave\": # first item in the tuple\n",
    "        print(n, event) # assign a number sequence to the event"
   ]
  },
  {
   "cell_type": "code",
   "execution_count": 18,
   "metadata": {},
   "outputs": [],
   "source": [
    "person = {\n",
    "    \"first\": \"Tim\",\n",
    "    \"last\": \"O'Reilly\",\n",
    "}"
   ]
  },
  {
   "cell_type": "code",
   "execution_count": 19,
   "metadata": {},
   "outputs": [
    {
     "data": {
      "text/plain": [
       "'Tim'"
      ]
     },
     "execution_count": 19,
     "metadata": {},
     "output_type": "execute_result"
    }
   ],
   "source": [
    "person[\"first\"] # Access the value using the key"
   ]
  },
  {
   "cell_type": "code",
   "execution_count": 20,
   "metadata": {},
   "outputs": [
    {
     "data": {
      "text/plain": [
       "\"O'Reilly\""
      ]
     },
     "execution_count": 20,
     "metadata": {},
     "output_type": "execute_result"
    }
   ],
   "source": [
    "person[\"last\"]"
   ]
  },
  {
   "cell_type": "code",
   "execution_count": 21,
   "metadata": {},
   "outputs": [],
   "source": [
    "swimmers = {}"
   ]
  },
  {
   "cell_type": "code",
   "execution_count": 22,
   "metadata": {},
   "outputs": [],
   "source": [
    "for file in swim_files:\n",
    "\n",
    "    name, *_ = swimclub.read_swim_data(file) # store the names in the name key\n",
    "\n",
    "    swimmers[name] = [] # create an empty value for each name key"
   ]
  },
  {
   "cell_type": "code",
   "execution_count": 23,
   "metadata": {},
   "outputs": [
    {
     "data": {
      "text/plain": [
       "{'Hannah': [],\n",
       " 'Darius': [],\n",
       " 'Owen': [],\n",
       " 'Mike': [],\n",
       " 'Abi': [],\n",
       " 'Ruth': [],\n",
       " 'Tasmin': [],\n",
       " 'Erika': [],\n",
       " 'Maria': [],\n",
       " 'Elba': [],\n",
       " 'Ali': [],\n",
       " 'Chris': [],\n",
       " 'Aurora': [],\n",
       " 'Katie': [],\n",
       " 'Alison': [],\n",
       " 'Emma': [],\n",
       " 'Calvin': [],\n",
       " 'Blake': [],\n",
       " 'Bill': [],\n",
       " 'Dave': [],\n",
       " 'Lizzie': [],\n",
       " 'Carl': []}"
      ]
     },
     "execution_count": 23,
     "metadata": {},
     "output_type": "execute_result"
    }
   ],
   "source": [
    "swimmers"
   ]
  },
  {
   "cell_type": "code",
   "execution_count": 24,
   "metadata": {},
   "outputs": [
    {
     "data": {
      "text/plain": [
       "22"
      ]
     },
     "execution_count": 24,
     "metadata": {},
     "output_type": "execute_result"
    }
   ],
   "source": [
    "len(swimmers)"
   ]
  },
  {
   "cell_type": "code",
   "execution_count": 25,
   "metadata": {},
   "outputs": [
    {
     "name": "stdout",
     "output_type": "stream",
     "text": [
      "['Abi', 'Ali', 'Alison', 'Aurora', 'Bill', 'Blake', 'Calvin', 'Carl', 'Chris', 'Darius', 'Dave', 'Elba', 'Emma', 'Erika', 'Hannah', 'Katie', 'Lizzie', 'Maria', 'Mike', 'Owen', 'Ruth', 'Tasmin']\n"
     ]
    }
   ],
   "source": [
    "print(sorted(swimmers))"
   ]
  },
  {
   "cell_type": "code",
   "execution_count": 26,
   "metadata": {},
   "outputs": [
    {
     "data": {
      "text/plain": [
       "[]"
      ]
     },
     "execution_count": 26,
     "metadata": {},
     "output_type": "execute_result"
    }
   ],
   "source": [
    "swimmers[\"Dave\"]"
   ]
  },
  {
   "cell_type": "code",
   "execution_count": 27,
   "metadata": {},
   "outputs": [
    {
     "name": "stdout",
     "output_type": "stream",
     "text": [
      "['__class__', '__class_getitem__', '__contains__', '__delattr__', '__delitem__', '__dir__', '__doc__', '__eq__', '__format__', '__ge__', '__getattribute__', '__getitem__', '__getstate__', '__gt__', '__hash__', '__init__', '__init_subclass__', '__ior__', '__iter__', '__le__', '__len__', '__lt__', '__ne__', '__new__', '__or__', '__reduce__', '__reduce_ex__', '__repr__', '__reversed__', '__ror__', '__setattr__', '__setitem__', '__sizeof__', '__str__', '__subclasshook__', 'clear', 'copy', 'fromkeys', 'get', 'items', 'keys', 'pop', 'popitem', 'setdefault', 'update', 'values']\n"
     ]
    }
   ],
   "source": [
    "print(dir(swimmers))"
   ]
  },
  {
   "cell_type": "code",
   "execution_count": 30,
   "metadata": {},
   "outputs": [
    {
     "data": {
      "text/plain": [
       "{'Hannah': ['Hannah-13-100m-Free.txt', 'Hannah-13-100m-Back.txt'],\n",
       " 'Darius': ['Darius-13-100m-Back.txt',\n",
       "  'Darius-13-100m-Breast.txt',\n",
       "  'Darius-13-100m-Fly.txt',\n",
       "  'Darius-13-200m-IM.txt'],\n",
       " 'Owen': ['Owen-15-100m-Free.txt'],\n",
       " 'Mike': ['Mike-15-100m-Free.txt',\n",
       "  'Mike-15-100m-Back.txt',\n",
       "  'Mike-15-100m-Fly.txt',\n",
       "  'Mike-15-200m-IM.txt',\n",
       "  'Mike-15-200m-Free.txt'],\n",
       " 'Abi': ['Abi-10-50m-Back.txt',\n",
       "  'Abi-10-50m-Free.txt',\n",
       "  'Abi-10-100m-Back.txt',\n",
       "  'Abi-10-50m-Breast.txt',\n",
       "  'Abi-10-100m-Breast.txt'],\n",
       " 'Ruth': ['Ruth-13-200m-Free.txt',\n",
       "  'Ruth-13-200m-Back.txt',\n",
       "  'Ruth-13-100m-Back.txt',\n",
       "  'Ruth-13-100m-Free.txt',\n",
       "  'Ruth-13-400m-Free.txt'],\n",
       " 'Tasmin': ['Tasmin-15-100m-Back.txt',\n",
       "  'Tasmin-15-100m-Free.txt',\n",
       "  'Tasmin-15-100m-Breast.txt',\n",
       "  'Tasmin-15-200m-Breast.txt'],\n",
       " 'Erika': ['Erika-15-100m-Free.txt',\n",
       "  'Erika-15-200m-Breast.txt',\n",
       "  'Erika-15-100m-Breast.txt'],\n",
       " 'Maria': ['Maria-9-50m-Free.txt'],\n",
       " 'Elba': ['Elba-14-100m-Free.txt'],\n",
       " 'Ali': ['Ali-12-100m-Back.txt', 'Ali-12-100m-Free.txt'],\n",
       " 'Chris': ['Chris-17-100m-Back.txt', 'Chris-17-100m-Breast.txt'],\n",
       " 'Aurora': ['Aurora-13-50m-Free.txt'],\n",
       " 'Katie': ['Katie-9-100m-Breast.txt',\n",
       "  'Katie-9-50m-Fly.txt',\n",
       "  'Katie-9-50m-Breast.txt',\n",
       "  'Katie-9-50m-Back.txt',\n",
       "  'Katie-9-50m-Free.txt',\n",
       "  'Katie-9-100m-Free.txt',\n",
       "  'Katie-9-100m-Back.txt'],\n",
       " 'Alison': ['Alison-14-100m-Breast.txt', 'Alison-14-100m-Free.txt'],\n",
       " 'Emma': ['Emma-13-100m-Free.txt', 'Emma-13-100m-Breast.txt'],\n",
       " 'Calvin': ['Calvin-9-50m-Fly.txt',\n",
       "  'Calvin-9-50m-Back.txt',\n",
       "  'Calvin-9-50m-Free.txt'],\n",
       " 'Blake': ['Blake-15-100m-Free.txt',\n",
       "  'Blake-15-100m-Back.txt',\n",
       "  'Blake-15-100m-Fly.txt'],\n",
       " 'Bill': ['Bill-18-200m-Back.txt', 'Bill-18-100m-Back.txt'],\n",
       " 'Dave': ['Dave-17-100m-Free.txt', 'Dave-17-200m-Back.txt'],\n",
       " 'Lizzie': ['Lizzie-14-100m-Free.txt', 'Lizzie-14-100m-Back.txt'],\n",
       " 'Carl': ['Carl-15-100m-Back.txt']}"
      ]
     },
     "execution_count": 30,
     "metadata": {},
     "output_type": "execute_result"
    }
   ],
   "source": [
    "swimmers = {}\n",
    "\n",
    "for file in swim_files:\n",
    "\n",
    "    name, *_ = swimclub.read_swim_data(file)    \n",
    "    \n",
    "    if name not in swimmers: # Basically the first time a name appears in the loop, it creates an empty list for it to store values\n",
    "        swimmers[name] = [] \n",
    "\n",
    "    swimmers[name].append(file) # just append the value to the key\n",
    "\n",
    "swimmers"
   ]
  },
  {
   "cell_type": "code",
   "execution_count": 31,
   "metadata": {},
   "outputs": [
    {
     "data": {
      "text/plain": [
       "['Dave-17-100m-Free.txt', 'Dave-17-200m-Back.txt']"
      ]
     },
     "execution_count": 31,
     "metadata": {},
     "output_type": "execute_result"
    }
   ],
   "source": [
    "swimmers[\"Dave\"]"
   ]
  },
  {
   "cell_type": "code",
   "execution_count": 34,
   "metadata": {},
   "outputs": [
    {
     "data": {
      "text/plain": [
       "['Darius-13-100m-Back.txt',\n",
       " 'Darius-13-100m-Breast.txt',\n",
       " 'Darius-13-100m-Fly.txt',\n",
       " 'Darius-13-200m-IM.txt']"
      ]
     },
     "execution_count": 34,
     "metadata": {},
     "output_type": "execute_result"
    }
   ],
   "source": [
    "swimmers[\"Darius\"]"
   ]
  },
  {
   "cell_type": "code",
   "execution_count": 35,
   "metadata": {},
   "outputs": [
    {
     "data": {
      "text/plain": [
       "['Emma-13-100m-Free.txt', 'Emma-13-100m-Breast.txt']"
      ]
     },
     "execution_count": 35,
     "metadata": {},
     "output_type": "execute_result"
    }
   ],
   "source": [
    "swimmers[\"Emma\"]"
   ]
  },
  {
   "cell_type": "code",
   "execution_count": 36,
   "metadata": {},
   "outputs": [
    {
     "data": {
      "text/plain": [
       "['Calvin-9-50m-Fly.txt', 'Calvin-9-50m-Back.txt', 'Calvin-9-50m-Free.txt']"
      ]
     },
     "execution_count": 36,
     "metadata": {},
     "output_type": "execute_result"
    }
   ],
   "source": [
    "swimmers[\"Calvin\"]"
   ]
  },
  {
   "cell_type": "code",
   "execution_count": 38,
   "metadata": {},
   "outputs": [
    {
     "data": {
      "text/plain": [
       "['Katie-9-100m-Breast.txt',\n",
       " 'Katie-9-50m-Fly.txt',\n",
       " 'Katie-9-50m-Breast.txt',\n",
       " 'Katie-9-50m-Back.txt',\n",
       " 'Katie-9-50m-Free.txt',\n",
       " 'Katie-9-100m-Free.txt',\n",
       " 'Katie-9-100m-Back.txt']"
      ]
     },
     "execution_count": 38,
     "metadata": {},
     "output_type": "execute_result"
    }
   ],
   "source": [
    "swimmers[\"Katie\"]"
   ]
  },
  {
   "cell_type": "code",
   "execution_count": 39,
   "metadata": {},
   "outputs": [
    {
     "data": {
      "text/plain": [
       "{'Hannah': ['Hannah-13-100m-Free.txt', 'Hannah-13-100m-Back.txt'],\n",
       " 'Darius': ['Darius-13-100m-Back.txt',\n",
       "  'Darius-13-100m-Breast.txt',\n",
       "  'Darius-13-100m-Fly.txt',\n",
       "  'Darius-13-200m-IM.txt'],\n",
       " 'Owen': ['Owen-15-100m-Free.txt'],\n",
       " 'Mike': ['Mike-15-100m-Free.txt',\n",
       "  'Mike-15-100m-Back.txt',\n",
       "  'Mike-15-100m-Fly.txt',\n",
       "  'Mike-15-200m-IM.txt',\n",
       "  'Mike-15-200m-Free.txt'],\n",
       " 'Abi': ['Abi-10-50m-Back.txt',\n",
       "  'Abi-10-50m-Free.txt',\n",
       "  'Abi-10-100m-Back.txt',\n",
       "  'Abi-10-50m-Breast.txt',\n",
       "  'Abi-10-100m-Breast.txt'],\n",
       " 'Ruth': ['Ruth-13-200m-Free.txt',\n",
       "  'Ruth-13-200m-Back.txt',\n",
       "  'Ruth-13-100m-Back.txt',\n",
       "  'Ruth-13-100m-Free.txt',\n",
       "  'Ruth-13-400m-Free.txt'],\n",
       " 'Tasmin': ['Tasmin-15-100m-Back.txt',\n",
       "  'Tasmin-15-100m-Free.txt',\n",
       "  'Tasmin-15-100m-Breast.txt',\n",
       "  'Tasmin-15-200m-Breast.txt'],\n",
       " 'Erika': ['Erika-15-100m-Free.txt',\n",
       "  'Erika-15-200m-Breast.txt',\n",
       "  'Erika-15-100m-Breast.txt'],\n",
       " 'Maria': ['Maria-9-50m-Free.txt'],\n",
       " 'Elba': ['Elba-14-100m-Free.txt'],\n",
       " 'Ali': ['Ali-12-100m-Back.txt', 'Ali-12-100m-Free.txt'],\n",
       " 'Chris': ['Chris-17-100m-Back.txt', 'Chris-17-100m-Breast.txt'],\n",
       " 'Aurora': ['Aurora-13-50m-Free.txt'],\n",
       " 'Katie': ['Katie-9-100m-Breast.txt',\n",
       "  'Katie-9-50m-Fly.txt',\n",
       "  'Katie-9-50m-Breast.txt',\n",
       "  'Katie-9-50m-Back.txt',\n",
       "  'Katie-9-50m-Free.txt',\n",
       "  'Katie-9-100m-Free.txt',\n",
       "  'Katie-9-100m-Back.txt'],\n",
       " 'Alison': ['Alison-14-100m-Breast.txt', 'Alison-14-100m-Free.txt'],\n",
       " 'Emma': ['Emma-13-100m-Free.txt', 'Emma-13-100m-Breast.txt'],\n",
       " 'Calvin': ['Calvin-9-50m-Fly.txt',\n",
       "  'Calvin-9-50m-Back.txt',\n",
       "  'Calvin-9-50m-Free.txt'],\n",
       " 'Blake': ['Blake-15-100m-Free.txt',\n",
       "  'Blake-15-100m-Back.txt',\n",
       "  'Blake-15-100m-Fly.txt'],\n",
       " 'Bill': ['Bill-18-200m-Back.txt', 'Bill-18-100m-Back.txt'],\n",
       " 'Dave': ['Dave-17-100m-Free.txt', 'Dave-17-200m-Back.txt'],\n",
       " 'Lizzie': ['Lizzie-14-100m-Free.txt', 'Lizzie-14-100m-Back.txt'],\n",
       " 'Carl': ['Carl-15-100m-Back.txt']}"
      ]
     },
     "execution_count": 39,
     "metadata": {},
     "output_type": "execute_result"
    }
   ],
   "source": [
    "swimmers"
   ]
  },
  {
   "cell_type": "code",
   "execution_count": 47,
   "metadata": {},
   "outputs": [],
   "source": [
    "import pprint"
   ]
  },
  {
   "cell_type": "code",
   "execution_count": 48,
   "metadata": {},
   "outputs": [
    {
     "name": "stdout",
     "output_type": "stream",
     "text": [
      "{'Abi': ['Abi-10-50m-Back.txt',\n",
      "         'Abi-10-50m-Free.txt',\n",
      "         'Abi-10-100m-Back.txt',\n",
      "         'Abi-10-50m-Breast.txt',\n",
      "         'Abi-10-100m-Breast.txt'],\n",
      " 'Ali': ['Ali-12-100m-Back.txt', 'Ali-12-100m-Free.txt'],\n",
      " 'Alison': ['Alison-14-100m-Breast.txt', 'Alison-14-100m-Free.txt'],\n",
      " 'Aurora': ['Aurora-13-50m-Free.txt'],\n",
      " 'Bill': ['Bill-18-200m-Back.txt', 'Bill-18-100m-Back.txt'],\n",
      " 'Blake': ['Blake-15-100m-Free.txt',\n",
      "           'Blake-15-100m-Back.txt',\n",
      "           'Blake-15-100m-Fly.txt'],\n",
      " 'Calvin': ['Calvin-9-50m-Fly.txt',\n",
      "            'Calvin-9-50m-Back.txt',\n",
      "            'Calvin-9-50m-Free.txt'],\n",
      " 'Carl': ['Carl-15-100m-Back.txt'],\n",
      " 'Chris': ['Chris-17-100m-Back.txt', 'Chris-17-100m-Breast.txt'],\n",
      " 'Darius': ['Darius-13-100m-Back.txt',\n",
      "            'Darius-13-100m-Breast.txt',\n",
      "            'Darius-13-100m-Fly.txt',\n",
      "            'Darius-13-200m-IM.txt'],\n",
      " 'Dave': ['Dave-17-100m-Free.txt', 'Dave-17-200m-Back.txt'],\n",
      " 'Elba': ['Elba-14-100m-Free.txt'],\n",
      " 'Emma': ['Emma-13-100m-Free.txt', 'Emma-13-100m-Breast.txt'],\n",
      " 'Erika': ['Erika-15-100m-Free.txt',\n",
      "           'Erika-15-200m-Breast.txt',\n",
      "           'Erika-15-100m-Breast.txt'],\n",
      " 'Hannah': ['Hannah-13-100m-Free.txt', 'Hannah-13-100m-Back.txt'],\n",
      " 'Katie': ['Katie-9-100m-Breast.txt',\n",
      "           'Katie-9-50m-Fly.txt',\n",
      "           'Katie-9-50m-Breast.txt',\n",
      "           'Katie-9-50m-Back.txt',\n",
      "           'Katie-9-50m-Free.txt',\n",
      "           'Katie-9-100m-Free.txt',\n",
      "           'Katie-9-100m-Back.txt'],\n",
      " 'Lizzie': ['Lizzie-14-100m-Free.txt', 'Lizzie-14-100m-Back.txt'],\n",
      " 'Maria': ['Maria-9-50m-Free.txt'],\n",
      " 'Mike': ['Mike-15-100m-Free.txt',\n",
      "          'Mike-15-100m-Back.txt',\n",
      "          'Mike-15-100m-Fly.txt',\n",
      "          'Mike-15-200m-IM.txt',\n",
      "          'Mike-15-200m-Free.txt'],\n",
      " 'Owen': ['Owen-15-100m-Free.txt'],\n",
      " 'Ruth': ['Ruth-13-200m-Free.txt',\n",
      "          'Ruth-13-200m-Back.txt',\n",
      "          'Ruth-13-100m-Back.txt',\n",
      "          'Ruth-13-100m-Free.txt',\n",
      "          'Ruth-13-400m-Free.txt'],\n",
      " 'Tasmin': ['Tasmin-15-100m-Back.txt',\n",
      "            'Tasmin-15-100m-Free.txt',\n",
      "            'Tasmin-15-100m-Breast.txt',\n",
      "            'Tasmin-15-200m-Breast.txt']}\n"
     ]
    }
   ],
   "source": [
    "pprint.pprint(swimmers)"
   ]
  },
  {
   "cell_type": "code",
   "execution_count": 49,
   "metadata": {},
   "outputs": [],
   "source": [
    "import os\n",
    "import webbrowser\n",
    "\n",
    "import swimclub"
   ]
  },
  {
   "cell_type": "code",
   "execution_count": 50,
   "metadata": {},
   "outputs": [],
   "source": [
    "for fname in swimmers[\"Calvin\"]: # fname -> 'Calvin-9-50m-Fly.txt', 'Calvin-9-50m-Back.txt', 'Calvin-9-50m-Free.txt'\n",
    "    webbrowser.open(\"file://\" + os.path.realpath(swimclub.produce_bar_chart(fname))) # open webbrowser to run the produce_bar_chart function by giving it the html file path\n",
    "\n",
    "# Returns three chart pages for Calvin."
   ]
  },
  {
   "cell_type": "code",
   "execution_count": null,
   "metadata": {},
   "outputs": [],
   "source": []
  }
 ],
 "metadata": {
  "kernelspec": {
   "display_name": "Python 3",
   "language": "python",
   "name": "python3"
  },
  "language_info": {
   "codemirror_mode": {
    "name": "ipython",
    "version": 3
   },
   "file_extension": ".py",
   "mimetype": "text/x-python",
   "name": "python",
   "nbconvert_exporter": "python",
   "pygments_lexer": "ipython3",
   "version": "3.13.1"
  }
 },
 "nbformat": 4,
 "nbformat_minor": 2
}
