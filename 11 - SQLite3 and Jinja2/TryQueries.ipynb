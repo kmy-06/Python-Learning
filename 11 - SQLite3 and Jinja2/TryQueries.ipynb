{
 "cells": [
  {
   "cell_type": "code",
   "execution_count": 1,
   "metadata": {},
   "outputs": [
    {
     "name": "stdout",
     "output_type": "stream",
     "text": [
      "['SQL_CHART_DATA_BY_SWIMMER_EVENT_SESSION', 'SQL_SESSIONS', 'SQL_SWIMMERS_BY_SESSION', 'SQL_SWIMMERS_EVENTS_BY_SESSION', '__builtins__', '__cached__', '__doc__', '__file__', '__loader__', '__name__', '__package__', '__spec__']\n"
     ]
    }
   ],
   "source": [
    "import queries\n",
    "\n",
    "print(dir(queries))"
   ]
  },
  {
   "cell_type": "code",
   "execution_count": 2,
   "metadata": {},
   "outputs": [
    {
     "data": {
      "text/plain": [
       "['SQL_CHART_DATA_BY_SWIMMER_EVENT_SESSION',\n",
       " 'SQL_SESSIONS',\n",
       " 'SQL_SWIMMERS_BY_SESSION',\n",
       " 'SQL_SWIMMERS_EVENTS_BY_SESSION']"
      ]
     },
     "execution_count": 2,
     "metadata": {},
     "output_type": "execute_result"
    }
   ],
   "source": [
    "statements = []\n",
    "for sql in dir(queries):\n",
    "    if not sql.startswith(\"__\"): # items that don't start with __\n",
    "        statements.append(sql)\n",
    "statements"
   ]
  },
  {
   "cell_type": "code",
   "execution_count": 3,
   "metadata": {},
   "outputs": [
    {
     "data": {
      "text/plain": [
       "['SQL_CHART_DATA_BY_SWIMMER_EVENT_SESSION',\n",
       " 'SQL_SESSIONS',\n",
       " 'SQL_SWIMMERS_BY_SESSION',\n",
       " 'SQL_SWIMMERS_EVENTS_BY_SESSION']"
      ]
     },
     "execution_count": 3,
     "metadata": {},
     "output_type": "execute_result"
    }
   ],
   "source": [
    "[sql for sql in dir(queries) if not sql.startswith(\"__\")] # list comprehension is faster and less work"
   ]
  },
  {
   "cell_type": "code",
   "execution_count": 4,
   "metadata": {},
   "outputs": [
    {
     "name": "stdout",
     "output_type": "stream",
     "text": [
      "['__add__', '__class__', '__class_getitem__', '__contains__', '__delattr__', '__delitem__', '__dir__', '__doc__', '__eq__', '__format__', '__ge__', '__getattribute__', '__getitem__', '__getstate__', '__gt__', '__hash__', '__iadd__', '__imul__', '__init__', '__init_subclass__', '__iter__', '__le__', '__len__', '__lt__', '__mul__', '__ne__', '__new__', '__reduce__', '__reduce_ex__', '__repr__', '__reversed__', '__rmul__', '__setattr__', '__setitem__', '__sizeof__', '__str__', '__subclasshook__', 'append', 'clear', 'copy', 'count', 'extend', 'index', 'insert', 'pop', 'remove', 'reverse', 'sort']\n"
     ]
    }
   ],
   "source": [
    "print(dir(list))"
   ]
  },
  {
   "cell_type": "code",
   "execution_count": 5,
   "metadata": {},
   "outputs": [
    {
     "data": {
      "text/plain": [
       "['append',\n",
       " 'clear',\n",
       " 'copy',\n",
       " 'count',\n",
       " 'extend',\n",
       " 'index',\n",
       " 'insert',\n",
       " 'pop',\n",
       " 'remove',\n",
       " 'reverse',\n",
       " 'sort']"
      ]
     },
     "execution_count": 5,
     "metadata": {},
     "output_type": "execute_result"
    }
   ],
   "source": [
    "[x for x in dir(list) if not x.startswith(\"__\")]"
   ]
  },
  {
   "cell_type": "code",
   "execution_count": 6,
   "metadata": {},
   "outputs": [
    {
     "name": "stdout",
     "output_type": "stream",
     "text": [
      "['append', 'clear', 'copy', 'count', 'extend', 'index', 'insert', 'pop', 'remove', 'reverse', 'sort']\n"
     ]
    }
   ],
   "source": [
    "print([x for x in dir(list) if not x.startswith(\"__\")])"
   ]
  },
  {
   "cell_type": "code",
   "execution_count": 7,
   "metadata": {},
   "outputs": [],
   "source": [
    "import DBcm\n",
    "\n",
    "db_details = \"CoachDB.sqlite3\""
   ]
  },
  {
   "cell_type": "code",
   "execution_count": 8,
   "metadata": {},
   "outputs": [
    {
     "name": "stdout",
     "output_type": "stream",
     "text": [
      "\n",
      "    select distinct ts from times\n",
      "\n"
     ]
    }
   ],
   "source": [
    "from queries import SQL_SESSIONS # import the SQL_SESSIONS so that queries.SQL_SESSIONS is not required\n",
    "\n",
    "print(SQL_SESSIONS)"
   ]
  },
  {
   "cell_type": "code",
   "execution_count": 9,
   "metadata": {},
   "outputs": [
    {
     "data": {
      "text/plain": [
       "[('2025-01-26 06:18:11',)]"
      ]
     },
     "execution_count": 9,
     "metadata": {},
     "output_type": "execute_result"
    }
   ],
   "source": [
    "with DBcm.UseDatabase(db_details) as db:\n",
    "    db.execute(SQL_SESSIONS)\n",
    "    results = db.fetchall()\n",
    "results"
   ]
  },
  {
   "cell_type": "code",
   "execution_count": 10,
   "metadata": {},
   "outputs": [],
   "source": [
    "##  !python3 update_tables.py"
   ]
  },
  {
   "cell_type": "code",
   "execution_count": 11,
   "metadata": {},
   "outputs": [
    {
     "data": {
      "text/plain": [
       "[('2025-01-26 06:18:11',)]"
      ]
     },
     "execution_count": 11,
     "metadata": {},
     "output_type": "execute_result"
    }
   ],
   "source": [
    "with DBcm.UseDatabase(db_details) as db:\n",
    "    db.execute(SQL_SESSIONS)\n",
    "    results = db.fetchall()\n",
    "results"
   ]
  },
  {
   "cell_type": "code",
   "execution_count": 12,
   "metadata": {},
   "outputs": [
    {
     "name": "stdout",
     "output_type": "stream",
     "text": [
      "\n",
      "    select distinct swimmers.name, swimmers.age  \n",
      "    from times, swimmers \n",
      "    where date(times.ts) = ? and     \n",
      "    times.swimmer_id = swimmers.id \n",
      "    order by name\n",
      "\n"
     ]
    }
   ],
   "source": [
    "from queries import SQL_SWIMMERS_BY_SESSION\n",
    "\n",
    "print(SQL_SWIMMERS_BY_SESSION)"
   ]
  },
  {
   "cell_type": "code",
   "execution_count": 13,
   "metadata": {},
   "outputs": [
    {
     "data": {
      "text/plain": [
       "[]"
      ]
     },
     "execution_count": 13,
     "metadata": {},
     "output_type": "execute_result"
    }
   ],
   "source": [
    "with DBcm.UseDatabase(db_details) as db:\n",
    "    db.execute(SQL_SWIMMERS_BY_SESSION, (\"2023-01-13\",))\n",
    "    results = db.fetchall()\n",
    "results"
   ]
  },
  {
   "cell_type": "code",
   "execution_count": 14,
   "metadata": {},
   "outputs": [
    {
     "data": {
      "text/plain": [
       "[('2025-01-26 06:18:11',)]"
      ]
     },
     "execution_count": 14,
     "metadata": {},
     "output_type": "execute_result"
    }
   ],
   "source": [
    "with DBcm.UseDatabase(db_details) as db:\n",
    "    db.execute(SQL_SESSIONS)\n",
    "    results = db.fetchall()\n",
    "results"
   ]
  },
  {
   "cell_type": "code",
   "execution_count": 15,
   "metadata": {},
   "outputs": [
    {
     "data": {
      "text/plain": [
       "[]"
      ]
     },
     "execution_count": 15,
     "metadata": {},
     "output_type": "execute_result"
    }
   ],
   "source": [
    "with DBcm.UseDatabase(db_details) as db:\n",
    "    db.execute(SQL_SWIMMERS_BY_SESSION, (\"2023-01-20\",)) \n",
    "    results = db.fetchall()\n",
    "results"
   ]
  },
  {
   "cell_type": "code",
   "execution_count": 16,
   "metadata": {},
   "outputs": [
    {
     "name": "stdout",
     "output_type": "stream",
     "text": [
      "  \n",
      "    select distinct events.distance, events.stroke\n",
      "    from swimmers, events, times\n",
      "    where times.swimmer_id = swimmers.id and\n",
      "    times.event_id = events.id and\n",
      "    (swimmers.name = ? and swimmers.age = ?) and\n",
      "    date(times.ts) = ?\n",
      "\n"
     ]
    }
   ],
   "source": [
    "from queries import SQL_SWIMMERS_EVENTS_BY_SESSION\n",
    "\n",
    "print(SQL_SWIMMERS_EVENTS_BY_SESSION)"
   ]
  },
  {
   "cell_type": "code",
   "execution_count": 17,
   "metadata": {},
   "outputs": [
    {
     "data": {
      "text/plain": [
       "[]"
      ]
     },
     "execution_count": 17,
     "metadata": {},
     "output_type": "execute_result"
    }
   ],
   "source": [
    "with DBcm.UseDatabase(db_details) as db:\n",
    "    db.execute(SQL_SWIMMERS_EVENTS_BY_SESSION, (\"Darius\", 13, \"2023-01-13\",))  \n",
    "    results = db.fetchall()\n",
    "results"
   ]
  },
  {
   "cell_type": "code",
   "execution_count": 18,
   "metadata": {},
   "outputs": [
    {
     "data": {
      "text/plain": [
       "[]"
      ]
     },
     "execution_count": 18,
     "metadata": {},
     "output_type": "execute_result"
    }
   ],
   "source": [
    "with DBcm.UseDatabase(db_details) as db:\n",
    "    db.execute(SQL_SWIMMERS_EVENTS_BY_SESSION, (\"Darius\", 8, \"2023-01-20\",))  \n",
    "    results = db.fetchall()\n",
    "results"
   ]
  },
  {
   "cell_type": "code",
   "execution_count": 19,
   "metadata": {},
   "outputs": [
    {
     "name": "stdout",
     "output_type": "stream",
     "text": [
      "\n",
      "    select times.time\n",
      "    from swimmers, events, times\n",
      "    where (swimmers.name = ? and swimmers.age = ?) and\n",
      "    (events.distance = ? and events.stroke = ?) and \n",
      "    swimmers.id = times.swimmer_id and\n",
      "    events.id = times.event_id and\n",
      "    date(times.ts) = ?\n",
      "\n"
     ]
    }
   ],
   "source": [
    "from queries import SQL_CHART_DATA_BY_SWIMMER_EVENT_SESSION\n",
    "\n",
    "print(SQL_CHART_DATA_BY_SWIMMER_EVENT_SESSION)"
   ]
  },
  {
   "cell_type": "code",
   "execution_count": 20,
   "metadata": {},
   "outputs": [
    {
     "data": {
      "text/plain": [
       "[]"
      ]
     },
     "execution_count": 20,
     "metadata": {},
     "output_type": "execute_result"
    }
   ],
   "source": [
    "with DBcm.UseDatabase(db_details) as db:\n",
    "    db.execute(SQL_CHART_DATA_BY_SWIMMER_EVENT_SESSION, (\"Darius\", 13, \"100m\", \"Fly\", \"2023-01-13\",))  \n",
    "    results = db.fetchall()\n",
    "results"
   ]
  },
  {
   "cell_type": "code",
   "execution_count": null,
   "metadata": {},
   "outputs": [],
   "source": []
  }
 ],
 "metadata": {
  "kernelspec": {
   "display_name": "Python 3",
   "language": "python",
   "name": "python3"
  },
  "language_info": {
   "codemirror_mode": {
    "name": "ipython",
    "version": 3
   },
   "file_extension": ".py",
   "mimetype": "text/x-python",
   "name": "python",
   "nbconvert_exporter": "python",
   "pygments_lexer": "ipython3",
   "version": "3.13.1"
  },
  "orig_nbformat": 4,
  "vscode": {
   "interpreter": {
    "hash": "5c7b89af1651d0b8571dde13640ecdccf7d5a6204171d6ab33e7c296e100e08a"
   }
  }
 },
 "nbformat": 4,
 "nbformat_minor": 2
}
