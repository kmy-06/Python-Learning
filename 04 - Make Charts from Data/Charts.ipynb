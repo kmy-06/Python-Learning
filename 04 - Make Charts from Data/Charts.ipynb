{
 "cells": [
  {
   "cell_type": "code",
   "execution_count": 1,
   "metadata": {},
   "outputs": [],
   "source": [
    "import swimclub"
   ]
  },
  {
   "cell_type": "code",
   "execution_count": 2,
   "metadata": {},
   "outputs": [],
   "source": [
    "fn = \"Darius-13-100m-Fly.txt\""
   ]
  },
  {
   "cell_type": "code",
   "execution_count": 3,
   "metadata": {},
   "outputs": [],
   "source": [
    "(swimmer, age, distance, stroke, *_) = swimclub.read_swim_data(fn)"
   ]
  },
  {
   "cell_type": "code",
   "execution_count": 4,
   "metadata": {},
   "outputs": [],
   "source": [
    "# title = swimmer + \" (Under \" + age + \") \" + distance + \" \" + stroke\n",
    "title = f\"{swimmer} (Under {age}) {distance} {stroke}\""
   ]
  },
  {
   "cell_type": "code",
   "execution_count": 5,
   "metadata": {},
   "outputs": [
    {
     "data": {
      "text/plain": [
       "'Darius (Under 13) 100m Fly'"
      ]
     },
     "execution_count": 5,
     "metadata": {},
     "output_type": "execute_result"
    }
   ],
   "source": [
    "title"
   ]
  },
  {
   "cell_type": "code",
   "execution_count": 6,
   "metadata": {},
   "outputs": [],
   "source": [
    "html = \"<!DOCTYPE html><html><head><body><title>\" + title"
   ]
  },
  {
   "cell_type": "code",
   "execution_count": 7,
   "metadata": {},
   "outputs": [],
   "source": [
    "html = html + \"</title></head><body><h3>\" + title + \"</h3>\""
   ]
  },
  {
   "cell_type": "code",
   "execution_count": 8,
   "metadata": {},
   "outputs": [
    {
     "data": {
      "text/plain": [
       "'<!DOCTYPE html><html><head><body><title>Darius (Under 13) 100m Fly</title></head><body><h3>Darius (Under 13) 100m Fly</h3>'"
      ]
     },
     "execution_count": 8,
     "metadata": {},
     "output_type": "execute_result"
    }
   ],
   "source": [
    "html"
   ]
  },
  {
   "cell_type": "code",
   "execution_count": 9,
   "metadata": {},
   "outputs": [],
   "source": [
    "html = f\"\"\"\n",
    "<!DOCTYPE html>\n",
    "<html>\n",
    "    <head>\n",
    "        <title>{title}</title>\n",
    "    </head>\n",
    "    <body>\n",
    "        <h3>{title}</h3>\n",
    "\"\"\""
   ]
  },
  {
   "cell_type": "code",
   "execution_count": 10,
   "metadata": {},
   "outputs": [
    {
     "data": {
      "text/plain": [
       "'\\n<!DOCTYPE html>\\n<html>\\n    <head>\\n        <title>Darius (Under 13) 100m Fly</title>\\n    </head>\\n    <body>\\n        <h3>Darius (Under 13) 100m Fly</h3>\\n'"
      ]
     },
     "execution_count": 10,
     "metadata": {},
     "output_type": "execute_result"
    }
   ],
   "source": [
    "html"
   ]
  },
  {
   "cell_type": "code",
   "execution_count": 11,
   "metadata": {},
   "outputs": [
    {
     "name": "stdout",
     "output_type": "stream",
     "text": [
      "\n",
      "<!DOCTYPE html>\n",
      "<html>\n",
      "    <head>\n",
      "        <title>Darius (Under 13) 100m Fly</title>\n",
      "    </head>\n",
      "    <body>\n",
      "        <h3>Darius (Under 13) 100m Fly</h3>\n",
      "\n"
     ]
    }
   ],
   "source": [
    "print(html)"
   ]
  },
  {
   "cell_type": "code",
   "execution_count": 12,
   "metadata": {},
   "outputs": [
    {
     "data": {
      "text/plain": [
       "('Darius',\n",
       " '13',\n",
       " '100m',\n",
       " 'Fly',\n",
       " ['1:27.95', '1:21.07', '1:30.96', '1:23.22', '1:27.95', '1:28.30'],\n",
       " '1:26.58',\n",
       " [8795, 8107, 9096, 8322, 8795, 8830])"
      ]
     },
     "execution_count": 12,
     "metadata": {},
     "output_type": "execute_result"
    }
   ],
   "source": [
    "swimclub.read_swim_data(fn)"
   ]
  },
  {
   "cell_type": "code",
   "execution_count": 13,
   "metadata": {},
   "outputs": [],
   "source": [
    "*_, times, average, converts = swimclub.read_swim_data(fn)"
   ]
  },
  {
   "cell_type": "code",
   "execution_count": 14,
   "metadata": {},
   "outputs": [],
   "source": [
    "from_max = max(converts)"
   ]
  },
  {
   "cell_type": "code",
   "execution_count": 15,
   "metadata": {},
   "outputs": [],
   "source": [
    "import hfpy_utils # no need the '.py'"
   ]
  },
  {
   "cell_type": "code",
   "execution_count": 16,
   "metadata": {},
   "outputs": [],
   "source": [
    "svgs = \"\""
   ]
  },
  {
   "cell_type": "code",
   "execution_count": 17,
   "metadata": {},
   "outputs": [],
   "source": [
    "times.reverse()"
   ]
  },
  {
   "cell_type": "code",
   "execution_count": 18,
   "metadata": {},
   "outputs": [],
   "source": [
    "converts.reverse()"
   ]
  },
  {
   "cell_type": "code",
   "execution_count": 19,
   "metadata": {},
   "outputs": [],
   "source": [
    "for n, t in enumerate(times): # loop 'times' as t...\n",
    "    bar_width = hfpy_utils.convert2range(converts[n], 0, from_max, 0, 350)\n",
    "    svgs = svgs + f\"\"\"\n",
    "                        <svg height=\"30\" width=\"400\">\n",
    "                            <rect height=\"30\" width=\"{bar_width}\" style=\"fill:rgb(0,0,255);\" />\n",
    "                        </svg>{t}<br>\n",
    "\n",
    "                    \"\"\""
   ]
  },
  {
   "cell_type": "code",
   "execution_count": 20,
   "metadata": {},
   "outputs": [
    {
     "name": "stdout",
     "output_type": "stream",
     "text": [
      "\n",
      "                        <svg height=\"30\" width=\"400\">\n",
      "                            <rect height=\"30\" width=\"339.76\" style=\"fill:rgb(0,0,255);\" />\n",
      "                        </svg>1:28.30<br>\n",
      "\n",
      "                    \n",
      "                        <svg height=\"30\" width=\"400\">\n",
      "                            <rect height=\"30\" width=\"338.42\" style=\"fill:rgb(0,0,255);\" />\n",
      "                        </svg>1:27.95<br>\n",
      "\n",
      "                    \n",
      "                        <svg height=\"30\" width=\"400\">\n",
      "                            <rect height=\"30\" width=\"320.22\" style=\"fill:rgb(0,0,255);\" />\n",
      "                        </svg>1:23.22<br>\n",
      "\n",
      "                    \n",
      "                        <svg height=\"30\" width=\"400\">\n",
      "                            <rect height=\"30\" width=\"350.0\" style=\"fill:rgb(0,0,255);\" />\n",
      "                        </svg>1:30.96<br>\n",
      "\n",
      "                    \n",
      "                        <svg height=\"30\" width=\"400\">\n",
      "                            <rect height=\"30\" width=\"311.94\" style=\"fill:rgb(0,0,255);\" />\n",
      "                        </svg>1:21.07<br>\n",
      "\n",
      "                    \n",
      "                        <svg height=\"30\" width=\"400\">\n",
      "                            <rect height=\"30\" width=\"338.42\" style=\"fill:rgb(0,0,255);\" />\n",
      "                        </svg>1:27.95<br>\n",
      "\n",
      "                    \n"
     ]
    }
   ],
   "source": [
    "print(svgs)"
   ]
  },
  {
   "cell_type": "code",
   "execution_count": 21,
   "metadata": {},
   "outputs": [],
   "source": [
    "footer = f\"\"\"\n",
    "\n",
    "        <p>Average time: {average}</p>\n",
    "    </body>\n",
    "</html>\n",
    "\n",
    "\"\"\""
   ]
  },
  {
   "cell_type": "code",
   "execution_count": 22,
   "metadata": {},
   "outputs": [],
   "source": [
    "page = html + svgs + footer"
   ]
  },
  {
   "cell_type": "code",
   "execution_count": 23,
   "metadata": {},
   "outputs": [],
   "source": [
    "# with open(\"test.txt\", \"w\") as tf: # use \"a\" for append mode\n",
    "#     print(\"This is a test\", file=tf)"
   ]
  },
  {
   "cell_type": "code",
   "execution_count": 24,
   "metadata": {},
   "outputs": [],
   "source": [
    "save_to = f\"charts/{fn.removesuffix('.txt')}.html\""
   ]
  },
  {
   "cell_type": "code",
   "execution_count": 25,
   "metadata": {},
   "outputs": [],
   "source": [
    "with open(save_to, \"w\") as sf:\n",
    "    print(page, file=sf)    "
   ]
  },
  {
   "cell_type": "code",
   "execution_count": 26,
   "metadata": {},
   "outputs": [],
   "source": [
    "import os"
   ]
  },
  {
   "cell_type": "code",
   "execution_count": 27,
   "metadata": {},
   "outputs": [],
   "source": [
    "import webbrowser"
   ]
  },
  {
   "cell_type": "code",
   "execution_count": 28,
   "metadata": {},
   "outputs": [
    {
     "data": {
      "text/plain": [
       "True"
      ]
     },
     "execution_count": 28,
     "metadata": {},
     "output_type": "execute_result"
    }
   ],
   "source": [
    "webbrowser.open(\"file://\" + os.path.realpath(save_to))"
   ]
  },
  {
   "cell_type": "code",
   "execution_count": 29,
   "metadata": {},
   "outputs": [],
   "source": [
    "import os\n",
    "import swimclub\n",
    "import webbrowser"
   ]
  },
  {
   "cell_type": "code",
   "execution_count": 30,
   "metadata": {},
   "outputs": [
    {
     "data": {
      "text/plain": [
       "'charts/Darius-13-100m-Fly.html'"
      ]
     },
     "execution_count": 30,
     "metadata": {},
     "output_type": "execute_result"
    }
   ],
   "source": [
    "swimclub.produce_bar_chart(\"Darius-13-100m-Fly.txt\")"
   ]
  },
  {
   "cell_type": "code",
   "execution_count": 31,
   "metadata": {},
   "outputs": [
    {
     "data": {
      "text/plain": [
       "True"
      ]
     },
     "execution_count": 31,
     "metadata": {},
     "output_type": "execute_result"
    }
   ],
   "source": [
    "chart = swimclub.produce_bar_chart(\"Darius-13-100m-Fly.txt\")\n",
    "webbrowser.open(\"file://\" + os.path.realpath(chart))"
   ]
  },
  {
   "cell_type": "code",
   "execution_count": 32,
   "metadata": {},
   "outputs": [
    {
     "data": {
      "text/plain": [
       "True"
      ]
     },
     "execution_count": 32,
     "metadata": {},
     "output_type": "execute_result"
    }
   ],
   "source": [
    "chart = swimclub.produce_bar_chart(\"Dave-17-100m-Free.txt\")\n",
    "webbrowser.open(\"file://\" + os.path.realpath(chart))"
   ]
  },
  {
   "cell_type": "code",
   "execution_count": 33,
   "metadata": {},
   "outputs": [
    {
     "data": {
      "text/plain": [
       "True"
      ]
     },
     "execution_count": 33,
     "metadata": {},
     "output_type": "execute_result"
    }
   ],
   "source": [
    "chart = swimclub.produce_bar_chart(\"Lizzie-14-100m-Back.txt\")    \n",
    "webbrowser.open(\"file://\" + os.path.realpath(chart))"
   ]
  },
  {
   "cell_type": "code",
   "execution_count": null,
   "metadata": {},
   "outputs": [],
   "source": []
  }
 ],
 "metadata": {
  "kernelspec": {
   "display_name": "Python 3",
   "language": "python",
   "name": "python3"
  },
  "language_info": {
   "codemirror_mode": {
    "name": "ipython",
    "version": 3
   },
   "file_extension": ".py",
   "mimetype": "text/x-python",
   "name": "python",
   "nbconvert_exporter": "python",
   "pygments_lexer": "ipython3",
   "version": "3.13.1"
  }
 },
 "nbformat": 4,
 "nbformat_minor": 2
}
