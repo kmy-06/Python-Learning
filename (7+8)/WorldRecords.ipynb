{
 "cells": [
  {
   "cell_type": "code",
   "execution_count": 49,
   "metadata": {},
   "outputs": [
    {
     "name": "stdout",
     "output_type": "stream",
     "text": [
      "Requirement already satisfied: gazpacho in /Library/Frameworks/Python.framework/Versions/3.13/lib/python3.13/site-packages (1.1)\n",
      "Note: you may need to restart the kernel to use updated packages.\n"
     ]
    }
   ],
   "source": [
    "%pip install gazpacho --upgrade"
   ]
  },
  {
   "cell_type": "code",
   "execution_count": 50,
   "metadata": {},
   "outputs": [],
   "source": [
    "URL = \"https://en.wikipedia.org/wiki/List_of_world_records_in_swimming\""
   ]
  },
  {
   "cell_type": "code",
   "execution_count": 51,
   "metadata": {},
   "outputs": [],
   "source": [
    "import gazpacho"
   ]
  },
  {
   "cell_type": "code",
   "execution_count": 52,
   "metadata": {},
   "outputs": [],
   "source": [
    "html = gazpacho.get(URL)"
   ]
  },
  {
   "cell_type": "code",
   "execution_count": 53,
   "metadata": {},
   "outputs": [
    {
     "data": {
      "text/plain": [
       "603647"
      ]
     },
     "execution_count": 53,
     "metadata": {},
     "output_type": "execute_result"
    }
   ],
   "source": [
    "len(html)"
   ]
  },
  {
   "cell_type": "code",
   "execution_count": 54,
   "metadata": {},
   "outputs": [
    {
     "data": {
      "text/plain": [
       "'<!DOCTYPE html>\\n<html class=\"client-nojs vector-feature-language-in-header-enabled vector-feature-language-in-main-page-header-disabled vector-feature-page-tools-pinned-disabled vector-feature-toc-pinned-clientpref-1 vector-feature-main-menu-pinned-disabled vector-feature-limited-width-clientpref-1 vector-feature-limited-width-content-enabled vector-feature-custom-font-size-clientpref-1 vector-feature-appearance-pinned-clientpref-1 vector-feature-night-mode-enabled skin-theme-clientpref-day vect'"
      ]
     },
     "execution_count": 54,
     "metadata": {},
     "output_type": "execute_result"
    }
   ],
   "source": [
    "html[:500]"
   ]
  },
  {
   "cell_type": "code",
   "execution_count": 55,
   "metadata": {},
   "outputs": [
    {
     "data": {
      "text/plain": [
       "'anization\",\"name\":\"Contributors to Wikimedia projects\"},\"publisher\":{\"@type\":\"Organization\",\"name\":\"Wikimedia Foundation, Inc.\",\"logo\":{\"@type\":\"ImageObject\",\"url\":\"https:\\\\/\\\\/www.wikimedia.org\\\\/static\\\\/images\\\\/wmf-hor-googpub.png\"}},\"datePublished\":\"2007-03-15T21:20:10Z\",\"dateModified\":\"2025-01-22T02:12:42Z\",\"image\":\"https:\\\\/\\\\/upload.wikimedia.org\\\\/wikipedia\\\\/commons\\\\/a\\\\/ae\\\\/Caeleb_Dressel_before_winning_100_fly_%2842769914221%29.jpg\",\"headline\":\"Wikimedia list article\"}</script>\\n</body>\\n</html>'"
      ]
     },
     "execution_count": 55,
     "metadata": {},
     "output_type": "execute_result"
    }
   ],
   "source": [
    "html[-500:]"
   ]
  },
  {
   "cell_type": "code",
   "execution_count": 56,
   "metadata": {},
   "outputs": [
    {
     "data": {
      "text/plain": [
       "'<table class=\"wikitable sortable\" style=\"font-size: 95%;\">\\n<caption>\\n</caption>\\n<tbody><tr>\\n<th>Event\\n</th>\\n<th style=\"width:4em\" class=\"unsortable\">Time\\n</th>\\n<th class=\"unsortable\">\\n</th>\\n<th>Name</th>\\n<th>Nationality</th>\\n<th>Date</th>\\n<th>Meet</th>\\n<th>Location\\n</th>\\n<th style=\"width:2em\" class=\"unsortable\">Ref\\n</th></tr>\\n\\n<tr>\\n<td><span data-sort-value=\"01&#160;!\"><a href=\"/wiki/World_record_progression_50_metres_freestyle\" title=\"World record progression 50 metres freestyle\">50m freestyle<'"
      ]
     },
     "execution_count": 56,
     "metadata": {},
     "output_type": "execute_result"
    }
   ],
   "source": [
    "from_where = html.find(\"<table\")\n",
    "html[from_where : from_where + 500]"
   ]
  },
  {
   "cell_type": "code",
   "execution_count": 57,
   "metadata": {},
   "outputs": [],
   "source": [
    "soup = gazpacho.Soup(html)"
   ]
  },
  {
   "cell_type": "code",
   "execution_count": 58,
   "metadata": {},
   "outputs": [
    {
     "data": {
      "text/plain": [
       "gazpacho.soup.Soup"
      ]
     },
     "execution_count": 58,
     "metadata": {},
     "output_type": "execute_result"
    }
   ],
   "source": [
    "type(soup)"
   ]
  },
  {
   "cell_type": "code",
   "execution_count": 59,
   "metadata": {},
   "outputs": [
    {
     "name": "stdout",
     "output_type": "stream",
     "text": [
      "['attrs', 'find', 'get', 'html', 'strip', 'tag', 'text']\n"
     ]
    }
   ],
   "source": [
    "print(dir(soup))"
   ]
  },
  {
   "cell_type": "code",
   "execution_count": 60,
   "metadata": {},
   "outputs": [],
   "source": [
    "tables = soup.find(\"table\")"
   ]
  },
  {
   "cell_type": "code",
   "execution_count": 61,
   "metadata": {},
   "outputs": [
    {
     "data": {
      "text/plain": [
       "list"
      ]
     },
     "execution_count": 61,
     "metadata": {},
     "output_type": "execute_result"
    }
   ],
   "source": [
    "type(tables)"
   ]
  },
  {
   "cell_type": "code",
   "execution_count": 62,
   "metadata": {},
   "outputs": [
    {
     "data": {
      "text/plain": [
       "12"
      ]
     },
     "execution_count": 62,
     "metadata": {},
     "output_type": "execute_result"
    }
   ],
   "source": [
    "len(tables)"
   ]
  },
  {
   "cell_type": "code",
   "execution_count": 63,
   "metadata": {},
   "outputs": [
    {
     "data": {
      "text/plain": [
       "gazpacho.soup.Soup"
      ]
     },
     "execution_count": 63,
     "metadata": {},
     "output_type": "execute_result"
    }
   ],
   "source": [
    "type(tables[0])"
   ]
  },
  {
   "cell_type": "code",
   "execution_count": 64,
   "metadata": {},
   "outputs": [
    {
     "data": {
      "text/plain": [
       "gazpacho.soup.Soup"
      ]
     },
     "execution_count": 64,
     "metadata": {},
     "output_type": "execute_result"
    }
   ],
   "source": [
    "type(tables[-1])"
   ]
  },
  {
   "cell_type": "code",
   "execution_count": 65,
   "metadata": {},
   "outputs": [],
   "source": [
    "rows = tables[0].find(\"tr\", mode=\"all\")"
   ]
  },
  {
   "cell_type": "code",
   "execution_count": 66,
   "metadata": {},
   "outputs": [
    {
     "data": {
      "text/plain": [
       "list"
      ]
     },
     "execution_count": 66,
     "metadata": {},
     "output_type": "execute_result"
    }
   ],
   "source": [
    "type(rows)"
   ]
  },
  {
   "cell_type": "code",
   "execution_count": 67,
   "metadata": {},
   "outputs": [
    {
     "data": {
      "text/plain": [
       "21"
      ]
     },
     "execution_count": 67,
     "metadata": {},
     "output_type": "execute_result"
    }
   ],
   "source": [
    "len(rows)"
   ]
  },
  {
   "cell_type": "code",
   "execution_count": 68,
   "metadata": {},
   "outputs": [
    {
     "data": {
      "text/plain": [
       "<tr>\n",
       "  <th>Event\n",
       "</th>\n",
       "  <th style=\"width:4em\" class=\"unsortable\">Time\n",
       "</th>\n",
       "  <th class=\"unsortable\">\n",
       "</th>\n",
       "  <th>Name</th>\n",
       "  <th>Nationality</th>\n",
       "  <th>Date</th>\n",
       "  <th>Meet</th>\n",
       "  <th>Location\n",
       "</th>\n",
       "  <th style=\"width:2em\" class=\"unsortable\">Ref\n",
       "</th>\n",
       "</tr>"
      ]
     },
     "execution_count": 68,
     "metadata": {},
     "output_type": "execute_result"
    }
   ],
   "source": [
    "rows[0]"
   ]
  },
  {
   "cell_type": "code",
   "execution_count": 69,
   "metadata": {},
   "outputs": [
    {
     "name": "stdout",
     "output_type": "stream",
     "text": [
      "0 -> 21 rows\n",
      "1 -> 1 rows\n",
      "2 -> 21 rows\n",
      "3 -> 3 rows\n",
      "4 -> 25 rows\n",
      "5 -> 26 rows\n",
      "6 -> 4 rows\n",
      "7 -> 26 rows\n",
      "8 -> 1 rows\n",
      "9 -> 7 rows\n",
      "10 -> 5 rows\n",
      "11 -> 8 rows\n"
     ]
    }
   ],
   "source": [
    "for n, table in enumerate(tables):\n",
    "    rows = table.find(\"tr\", mode=\"all\")\n",
    "    print(f\"{n} -> {len(rows)} rows\")"
   ]
  },
  {
   "cell_type": "code",
   "execution_count": 70,
   "metadata": {},
   "outputs": [
    {
     "name": "stdout",
     "output_type": "stream",
     "text": [
      "0 -> 21 rows, 9 columns\n",
      "1 -> 1 rows, 2 columns\n",
      "2 -> 21 rows, 9 columns\n",
      "3 -> 3 rows, 9 columns\n",
      "4 -> 25 rows, 9 columns\n",
      "5 -> 26 rows, 9 columns\n",
      "6 -> 4 rows, 9 columns\n",
      "7 -> 26 rows, 11 columns\n",
      "8 -> 1 rows, 2 columns\n",
      "9 -> 7 rows, 1 columns\n",
      "10 -> 5 rows, 1 columns\n",
      "11 -> 8 rows, 1 columns\n"
     ]
    }
   ],
   "source": [
    "for n, table in enumerate(tables):\n",
    "    rows = table.find(\"tr\", mode=\"all\")\n",
    "    cols = rows[-1].find(\"td\", mode=\"all\")\n",
    "    print(f\"{n} -> {len(rows)} rows, {len(cols)} columns\")"
   ]
  },
  {
   "cell_type": "code",
   "execution_count": 71,
   "metadata": {},
   "outputs": [
    {
     "name": "stdout",
     "output_type": "stream",
     "text": [
      "50m freestyle -> 20.91\n",
      "100m freestyle -> 46.40\n",
      "200m freestyle -> 1:42.00\n",
      "400m freestyle -> 3:40.07\n",
      "800m freestyle -> 7:32.12\n",
      "1500m freestyle -> 14:30.67\n",
      "50m backstroke -> 23.55\n",
      "100m backstroke -> 51.60\n",
      "200m backstroke -> 1:51.92\n",
      "50m breaststroke -> 25.95\n",
      "100m breaststroke -> 56.88\n",
      "200m breaststroke -> 2:05.48\n",
      "50m butterfly -> 22.27\n",
      "100m butterfly -> 49.45\n",
      "200m butterfly -> 1:50.34\n",
      "200m individual medley -> 1:54.00\n",
      "400m individual medley -> 4:02.50\n",
      "4 × 100 m freestyle relay -> 3:08.24\n",
      "4 × 200 m freestyle relay -> 6:58.55\n",
      "4 × 100 m medley relay -> 3:26.78\n"
     ]
    }
   ],
   "source": [
    "table = tables[0]\n",
    "for row in table.find(\"tr\", mode=\"all\")[1:]:\n",
    "    columns = row.find(\"td\", mode=\"all\")\n",
    "    event = columns[0].text\n",
    "    time = columns[1].text\n",
    "    print(f\"{event} -> {time}\")"
   ]
  },
  {
   "cell_type": "code",
   "execution_count": 72,
   "metadata": {},
   "outputs": [],
   "source": [
    "RECORDS = (0, 2, 4, 5)\n",
    "COURSES = (\"LC Men\", \"LC Women\", \"SC Men\", \"SC Women\")"
   ]
  },
  {
   "cell_type": "code",
   "execution_count": 73,
   "metadata": {},
   "outputs": [
    {
     "data": {
      "text/plain": [
       "[(0, 'LC Men'), (2, 'LC Women'), (4, 'SC Men'), (5, 'SC Women')]"
      ]
     },
     "execution_count": 73,
     "metadata": {},
     "output_type": "execute_result"
    }
   ],
   "source": [
    "list(zip(RECORDS, COURSES))"
   ]
  },
  {
   "cell_type": "code",
   "execution_count": 74,
   "metadata": {},
   "outputs": [
    {
     "name": "stdout",
     "output_type": "stream",
     "text": [
      "LC Men:\n",
      "\t50m freestyle -> 20.91\n",
      "\t100m freestyle -> 46.40\n",
      "\t200m freestyle -> 1:42.00\n",
      "\t400m freestyle -> 3:40.07\n",
      "\t800m freestyle -> 7:32.12\n",
      "\t1500m freestyle -> 14:30.67\n",
      "\t50m backstroke -> 23.55\n",
      "\t100m backstroke -> 51.60\n",
      "\t200m backstroke -> 1:51.92\n",
      "\t50m breaststroke -> 25.95\n",
      "\t100m breaststroke -> 56.88\n",
      "\t200m breaststroke -> 2:05.48\n",
      "\t50m butterfly -> 22.27\n",
      "\t100m butterfly -> 49.45\n",
      "\t200m butterfly -> 1:50.34\n",
      "\t200m individual medley -> 1:54.00\n",
      "\t400m individual medley -> 4:02.50\n",
      "\t4 × 100 m freestyle relay -> 3:08.24\n",
      "\t4 × 200 m freestyle relay -> 6:58.55\n",
      "\t4 × 100 m medley relay -> 3:26.78\n",
      "\n",
      "LC Women:\n",
      "\t50m freestyle -> 23.61\n",
      "\t100m freestyle -> 51.71\n",
      "\t200m freestyle -> 1:52.23\n",
      "\t400m freestyle -> 3:55.38\n",
      "\t800m freestyle -> 8:04.79\n",
      "\t1500m freestyle -> 15:20.48\n",
      "\t50m backstroke -> 26.86\n",
      "\t100m backstroke -> 57.13\n",
      "\t200m backstroke -> 2:03.14\n",
      "\t50m breaststroke -> 29.16\n",
      "\t100m breaststroke -> 1:04.13\n",
      "\t200m breaststroke -> 2:17.55\n",
      "\t50m butterfly -> 24.43\n",
      "\t100m butterfly -> 55.18\n",
      "\t200m butterfly -> 2:01.81\n",
      "\t200m individual medley -> 2:06.12\n",
      "\t400m individual medley -> 4:24.38\n",
      "\t4 × 100 m freestyle relay -> 3:27.96\n",
      "\t4 × 200 m freestyle relay -> 7:37.50\n",
      "\t4 × 100 m medley relay -> 3:49.63\n",
      "\n",
      "SC Men:\n",
      "\t50m freestyle -> 19.90\n",
      "\t100m freestyle -> 44.84\n",
      "\t200m freestyle -> 1:38.61\n",
      "\t400m freestyle -> 3:32.25\n",
      "\t800m freestyle -> 7:20.46\n",
      "\t1500m freestyle -> 14:06.88\n",
      "\t50m backstroke -> 22.11\n",
      "\t100m backstroke -> 48.33\n",
      "\t200m backstroke -> 1:45.63\n",
      "\t50m breaststroke -> 24.95\n",
      "\t100m breaststroke -> 55.28\n",
      "\t200m breaststroke -> 2:00.16\n",
      "\t50m butterfly -> 21.32\n",
      "\t100m butterfly -> 47.71\n",
      "\t200m butterfly -> 1:46.85\n",
      "\t100m individual medley -> 49.28\n",
      "\t200m individual medley -> 1:48.88\n",
      "\t400m individual medley -> 3:54.81\n",
      "\t4 × 50 m freestyle relay -> 1:21.80\n",
      "\t4 × 50 m freestyle relay -> 1:20.77\n",
      "\t4 × 100 m freestyle relay -> 3:01.66\n",
      "\t4 × 200 m freestyle relay -> 6:40.51\n",
      "\t4 × 50 m medley relay -> 1:29.72\n",
      "\t4 × 100 m medley relay -> 3:18.68\n",
      "\n",
      "SC Women:\n",
      "\t50m freestyle -> 22.83\n",
      "\t100m freestyle -> 50.25\n",
      "\t200m freestyle -> 1:50.31\n",
      "\t400m freestyle -> 3:50.25\n",
      "\t800m freestyle -> 7:57.42\n",
      "\t1500m freestyle -> 15:08.24\n",
      "\t50m backstroke -> 25.23\n",
      "\t100m backstroke -> 54.02\n",
      "\t200m backstroke -> 1:58.04\n",
      "\t50m breaststroke -> 28.37\n",
      "\t100m breaststroke -> 1:02.36\n",
      "\t100m breaststroke -> 1:02.36\n",
      "\t100m breaststroke -> 1:02.36\n",
      "\t200m breaststroke -> 2:12.50\n",
      "\t50m butterfly -> 23.94\n",
      "\t100m butterfly -> 52.71\n",
      "\t200m butterfly -> 1:59.32\n",
      "\t100m individual medley -> 55.11\n",
      "\t200m individual medley -> 2:01.63\n",
      "\t400m individual medley -> 4:15.48\n",
      "\t4 × 50 m freestyle relay -> 1:32.50\n",
      "\t4 × 100 m freestyle relay -> 3:25.01\n",
      "\t4 × 200 m freestyle relay -> 7:30.13\n",
      "\t4 × 50 m medley relay -> 1:42.35\n",
      "\t4 × 100 m medley relay -> 3:40.41\n",
      "\n"
     ]
    }
   ],
   "source": [
    "RECORDS = (0, 2, 4, 5)\n",
    "COURSES = (\"LC Men\", \"LC Women\", \"SC Men\", \"SC Women\")\n",
    "\n",
    "for table, course in zip(RECORDS, COURSES):\n",
    "    print(f\"{course}:\")\n",
    "    for row in tables[table].find(\"tr\", mode=\"all\")[1:]:\n",
    "        columns = row.find(\"td\", mode=\"all\")\n",
    "        event = columns[0].text\n",
    "        time = columns[1].text\n",
    "        print(f\"\\t{event} -> {time}\")\n",
    "    print()"
   ]
  },
  {
   "cell_type": "code",
   "execution_count": 75,
   "metadata": {},
   "outputs": [],
   "source": [
    "RECORDS = (0, 2, 4, 5)\n",
    "COURSES = (\"LC Men\", \"LC Women\", \"SC Men\", \"SC Women\")\n",
    "\n",
    "records = {}\n",
    "for table, course in zip(RECORDS, COURSES):\n",
    "    records[course] = {}\n",
    "    for row in tables[table].find(\"tr\", mode=\"all\")[1:]:\n",
    "        columns = row.find(\"td\", mode=\"all\")\n",
    "        event = columns[0].text\n",
    "        time = columns[1].text\n",
    "        records[course][event] = time"
   ]
  },
  {
   "cell_type": "code",
   "execution_count": 76,
   "metadata": {},
   "outputs": [
    {
     "data": {
      "text/plain": [
       "dict_keys(['LC Men', 'LC Women', 'SC Men', 'SC Women'])"
      ]
     },
     "execution_count": 76,
     "metadata": {},
     "output_type": "execute_result"
    }
   ],
   "source": [
    "records.keys()"
   ]
  },
  {
   "cell_type": "code",
   "execution_count": 77,
   "metadata": {},
   "outputs": [
    {
     "data": {
      "text/plain": [
       "'54.02'"
      ]
     },
     "execution_count": 77,
     "metadata": {},
     "output_type": "execute_result"
    }
   ],
   "source": [
    "records[\"SC Women\"][\"100m backstroke\"]"
   ]
  },
  {
   "cell_type": "code",
   "execution_count": 78,
   "metadata": {},
   "outputs": [
    {
     "data": {
      "text/plain": [
       "'20.91'"
      ]
     },
     "execution_count": 78,
     "metadata": {},
     "output_type": "execute_result"
    }
   ],
   "source": [
    "records[\"LC Men\"][\"50m freestyle\"]"
   ]
  },
  {
   "cell_type": "code",
   "execution_count": 79,
   "metadata": {},
   "outputs": [
    {
     "name": "stdout",
     "output_type": "stream",
     "text": [
      "49.45\n",
      "55.18\n",
      "47.71\n",
      "52.71\n"
     ]
    }
   ],
   "source": [
    "print(records[\"LC Men\"][\"100m butterfly\"])\n",
    "print(records[\"LC Women\"][\"100m butterfly\"])\n",
    "print(records[\"SC Men\"][\"100m butterfly\"])\n",
    "print(records[\"SC Women\"][\"100m butterfly\"])"
   ]
  },
  {
   "cell_type": "code",
   "execution_count": 80,
   "metadata": {},
   "outputs": [],
   "source": [
    "conversions = {\n",
    "    \"Free\": \"freestyle\",\n",
    "    \"Back\": \"backstroke\",\n",
    "    \"Breast\": \"breaststroke\",\n",
    "    \"Fly\": \"butterfly\",\n",
    "    \"IM\": \"individual medley\",\n",
    "}"
   ]
  },
  {
   "cell_type": "code",
   "execution_count": 81,
   "metadata": {},
   "outputs": [
    {
     "data": {
      "text/plain": [
       "'100m butterfly'"
      ]
     },
     "execution_count": 81,
     "metadata": {},
     "output_type": "execute_result"
    }
   ],
   "source": [
    "event = \"Mike-15-100m-Fly.txt\"\n",
    "*_, distance, stroke = event.removesuffix(\".txt\").split(\"-\")\n",
    "lookup = f\"{distance} {conversions[stroke]}\"\n",
    "lookup"
   ]
  },
  {
   "cell_type": "code",
   "execution_count": 82,
   "metadata": {},
   "outputs": [
    {
     "name": "stdout",
     "output_type": "stream",
     "text": [
      "49.45\n",
      "55.18\n",
      "47.71\n",
      "52.71\n"
     ]
    }
   ],
   "source": [
    "for course in records.keys():\n",
    "    print(f\"{records[course][lookup]}\")"
   ]
  },
  {
   "cell_type": "code",
   "execution_count": 83,
   "metadata": {},
   "outputs": [
    {
     "data": {
      "text/plain": [
       "{'50m freestyle': '20.91',\n",
       " '100m freestyle': '46.40',\n",
       " '200m freestyle': '1:42.00',\n",
       " '400m freestyle': '3:40.07',\n",
       " '800m freestyle': '7:32.12',\n",
       " '1500m freestyle': '14:30.67',\n",
       " '50m backstroke': '23.55',\n",
       " '100m backstroke': '51.60',\n",
       " '200m backstroke': '1:51.92',\n",
       " '50m breaststroke': '25.95',\n",
       " '100m breaststroke': '56.88',\n",
       " '200m breaststroke': '2:05.48',\n",
       " '50m butterfly': '22.27',\n",
       " '100m butterfly': '49.45',\n",
       " '200m butterfly': '1:50.34',\n",
       " '200m individual medley': '1:54.00',\n",
       " '400m individual medley': '4:02.50',\n",
       " '4 × 100 m freestyle relay': '3:08.24',\n",
       " '4 × 200 m freestyle relay': '6:58.55',\n",
       " '4 × 100 m medley relay': '3:26.78'}"
      ]
     },
     "execution_count": 83,
     "metadata": {},
     "output_type": "execute_result"
    }
   ],
   "source": [
    "records[\"LC Men\"]"
   ]
  },
  {
   "cell_type": "code",
   "execution_count": 84,
   "metadata": {},
   "outputs": [],
   "source": [
    "records = {}\n",
    "for table, course in zip(RECORDS, COURSES):\n",
    "    records[course] = {}\n",
    "    for row in tables[table].find(\"tr\", mode=\"all\")[1:]:\n",
    "        columns = row.find(\"td\", mode=\"all\")\n",
    "        event = columns[0].text\n",
    "        time = columns[1].text\n",
    "        if \"relay\" not in event:\n",
    "            records[course][event] = time"
   ]
  },
  {
   "cell_type": "code",
   "execution_count": 85,
   "metadata": {},
   "outputs": [
    {
     "data": {
      "text/plain": [
       "{'50m freestyle': '20.91',\n",
       " '100m freestyle': '46.40',\n",
       " '200m freestyle': '1:42.00',\n",
       " '400m freestyle': '3:40.07',\n",
       " '800m freestyle': '7:32.12',\n",
       " '1500m freestyle': '14:30.67',\n",
       " '50m backstroke': '23.55',\n",
       " '100m backstroke': '51.60',\n",
       " '200m backstroke': '1:51.92',\n",
       " '50m breaststroke': '25.95',\n",
       " '100m breaststroke': '56.88',\n",
       " '200m breaststroke': '2:05.48',\n",
       " '50m butterfly': '22.27',\n",
       " '100m butterfly': '49.45',\n",
       " '200m butterfly': '1:50.34',\n",
       " '200m individual medley': '1:54.00',\n",
       " '400m individual medley': '4:02.50'}"
      ]
     },
     "execution_count": 85,
     "metadata": {},
     "output_type": "execute_result"
    }
   ],
   "source": [
    "records[\"LC Men\"]"
   ]
  },
  {
   "cell_type": "code",
   "execution_count": 86,
   "metadata": {},
   "outputs": [],
   "source": [
    "import json"
   ]
  },
  {
   "cell_type": "code",
   "execution_count": 87,
   "metadata": {},
   "outputs": [],
   "source": [
    "with open(\"records.json\", \"w\") as jf:\n",
    "    json.dump(records, jf)"
   ]
  }
 ],
 "metadata": {
  "kernelspec": {
   "display_name": "Python 3",
   "language": "python",
   "name": "python3"
  },
  "language_info": {
   "codemirror_mode": {
    "name": "ipython",
    "version": 3
   },
   "file_extension": ".py",
   "mimetype": "text/x-python",
   "name": "python",
   "nbconvert_exporter": "python",
   "pygments_lexer": "ipython3",
   "version": "3.11.3"
  },
  "orig_nbformat": 4,
  "vscode": {
   "interpreter": {
    "hash": "5c7b89af1651d0b8571dde13640ecdccf7d5a6204171d6ab33e7c296e100e08a"
   }
  }
 },
 "nbformat": 4,
 "nbformat_minor": 2
}
